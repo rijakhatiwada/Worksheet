{
  "nbformat": 4,
  "nbformat_minor": 0,
  "metadata": {
    "colab": {
      "provenance": []
    },
    "kernelspec": {
      "name": "python3",
      "display_name": "Python 3"
    },
    "language_info": {
      "name": "python"
    }
  },
  "cells": [
    {
      "cell_type": "markdown",
      "source": [
        "#Task1"
      ],
      "metadata": {
        "id": "Hl3fu5b-IQ1l"
      }
    },
    {
      "cell_type": "code",
      "source": [
        "temperatures = [8.2, 17.4, 14.1, 7.9, 18.0, 13.5, 9.0, 17.8, 13.0, 8.5,\n",
        "16.5, 12.9, 7.7, 17.2, 13.3, 8.4, 16.7, 14.0, 9.5, 18.3, 13.4, 8.1,\n",
        "17.9, 14.2, 7.6, 17.0, 12.8, 8.0, 16.8, 13.7, 7.8, 17.5, 13.6, 8.7,\n",
        "17.1, 13.8, 9.2, 18.1, 13.9, 8.3, 16.4, 12.7, 8.9, 18.2, 13.1, 7.8,\n",
        "16.6, 12.5]\n",
        "cold = []\n",
        "mild = []\n",
        "comfortable = []\n",
        "for temp in temperatures:\n",
        "  if temp<10:\n",
        "    cold.append(temp)\n",
        "  elif 10<= temp <15:\n",
        "    mild.append(temp)\n",
        "  elif 15 <= temp <20:\n",
        "      comfortable.append(temp)\n",
        "\n",
        "print(\"Cold:\",cold);\n",
        "print(\"Mild:\", mild);\n",
        "print(\"Comfortable:\", comfortable);"
      ],
      "metadata": {
        "colab": {
          "base_uri": "https://localhost:8080/"
        },
        "id": "JGe1hxGvJJWg",
        "outputId": "ed8337f3-2ca5-4982-9848-be0f2880d6f8"
      },
      "execution_count": 4,
      "outputs": [
        {
          "output_type": "stream",
          "name": "stdout",
          "text": [
            "Cold: [8.2, 7.9, 9.0, 8.5, 7.7, 8.4, 9.5, 8.1, 7.6, 8.0, 7.8, 8.7, 9.2, 8.3, 8.9, 7.8]\n",
            "Mild: [14.1, 13.5, 13.0, 12.9, 13.3, 14.0, 13.4, 14.2, 12.8, 13.7, 13.6, 13.8, 13.9, 12.7, 13.1, 12.5]\n",
            "Comfortable: [17.4, 18.0, 17.8, 16.5, 17.2, 16.7, 18.3, 17.9, 17.0, 16.8, 17.5, 17.1, 18.1, 16.4, 18.2, 16.6]\n"
          ]
        }
      ]
    },
    {
      "cell_type": "code",
      "source": [
        "temperatures = [8.2, 17.4, 14.1, 7.9, 18.0, 13.5, 9.0, 17.8, 13.0, 8.5,\n",
        "16.5, 12.9, 7.7, 17.2, 13.3, 8.4, 16.7, 14.0, 9.5, 18.3, 13.4, 8.1,\n",
        "17.9, 14.2, 7.6, 17.0, 12.8, 8.0, 16.8, 13.7, 7.8, 17.5, 13.6, 8.7,\n",
        "17.1, 13.8, 9.2, 18.1, 13.9, 8.3, 16.4, 12.7, 8.9, 18.2, 13.1, 7.8,\n",
        "16.6, 12.5]\n",
        "temperatures_fahrenheit = []\n",
        "for temp in temperatures:\n",
        "  fahrenheit = (temp * 9/5)+32\n",
        "  temperatures_fahrenheit.append(fahrenheit)\n",
        "\n",
        "print(\"Temperatures in fahrenheit:\",temperatures_fahrenheit)"
      ],
      "metadata": {
        "colab": {
          "base_uri": "https://localhost:8080/"
        },
        "id": "zo7QihL3L9Gu",
        "outputId": "eed07db5-ece3-47e5-a485-f8b5231555a8"
      },
      "execution_count": 6,
      "outputs": [
        {
          "output_type": "stream",
          "name": "stdout",
          "text": [
            "Temperatures in fahrenheit: [46.76, 63.32, 57.379999999999995, 46.22, 64.4, 56.3, 48.2, 64.04, 55.4, 47.3, 61.7, 55.22, 45.86, 62.959999999999994, 55.94, 47.120000000000005, 62.059999999999995, 57.2, 49.1, 64.94, 56.120000000000005, 46.58, 64.22, 57.56, 45.68, 62.6, 55.04, 46.4, 62.24, 56.66, 46.04, 63.5, 56.48, 47.66, 62.78, 56.84, 48.56, 64.58, 57.02, 46.94, 61.519999999999996, 54.86, 48.02, 64.75999999999999, 55.58, 46.04, 61.88, 54.5]\n"
          ]
        }
      ]
    },
    {
      "cell_type": "code",
      "source": [
        "temperatures = [8.2, 17.4, 14.1, 7.9, 18.0, 13.5, 9.0, 17.8, 13.0, 8.5,\n",
        "16.5, 12.9, 7.7, 17.2, 13.3, 8.4, 16.7, 14.0, 9.5, 18.3, 13.4, 8.1,\n",
        "17.9, 14.2, 7.6, 17.0, 12.8, 8.0, 16.8, 13.7, 7.8, 17.5, 13.6, 8.7,\n",
        "17.1, 13.8, 9.2, 18.1, 13.9, 8.3, 16.4, 12.7, 8.9, 18.2, 13.1, 7.8,\n",
        "16.6, 12.5]\n",
        "night =[]\n",
        "evening =[]\n",
        "day=[]\n",
        "for i in range(len(temperatures)):\n",
        "  if 0 <= i < 8:\n",
        "    night.append(temperatures[i])\n",
        "  elif 8 <= i < 16:\n",
        "    evening.append(temperatures[i])\n",
        "  else:\n",
        "    day.append(temperatures[i])\n",
        "\n",
        "average_day_temperature = sum  (day)/len (day)\n",
        "\n",
        "print(f\"Night temperatures: {night}\")\n",
        "print(f\"Evening temperatures: {evening}\")\n",
        "print(f\"Day temperatures: {day}\")\n",
        "print(f\"Average daytime temperature: {average_day_temperature:.2f}°C\")\n"
      ],
      "metadata": {
        "colab": {
          "base_uri": "https://localhost:8080/"
        },
        "id": "mWCXClrGUnOs",
        "outputId": "f64604f4-efea-41b3-a76c-196bd5fc0e2c"
      },
      "execution_count": 31,
      "outputs": [
        {
          "output_type": "stream",
          "name": "stdout",
          "text": [
            "Night temperatures: [8.2, 17.4, 14.1, 7.9, 18.0, 13.5, 9.0, 17.8]\n",
            "Evening temperatures: [13.0, 8.5, 16.5, 12.9, 7.7, 17.2, 13.3, 8.4]\n",
            "Day temperatures: [16.7, 14.0, 9.5, 18.3, 13.4, 8.1, 17.9, 14.2, 7.6, 17.0, 12.8, 8.0, 16.8, 13.7, 7.8, 17.5, 13.6, 8.7, 17.1, 13.8, 9.2, 18.1, 13.9, 8.3, 16.4, 12.7, 8.9, 18.2, 13.1, 7.8, 16.6, 12.5]\n",
            "Average daytime temperature: 13.19°C\n"
          ]
        }
      ]
    },
    {
      "cell_type": "code",
      "source": [
        "def sum_nested_list(nested_list):\n",
        "  \"\"\"\n",
        "  Calculate the sum of all numbers in a nested list.\n",
        "  This function takes a list that may contain integers and other nested lists.\n",
        "  It recursively traverses the list and sums all the integers, no matter how deeply\n",
        "  nested they are.\n",
        "  Args:\n",
        "  nested_list (list): A list that may contain integers or other lists of integers.\n",
        "  Returns:\n",
        "  int: The total sum of all integers in the nested list, including those in sublists\n",
        "  .\n",
        "  Example:\n",
        "  >>> sum_nested_list([1, [2, [3, 4], 5], 6, [7, 8]])\n",
        "  36\n",
        "  >>> sum_nested_list([1, [2, 3], [4, [5]]])\n",
        "  15\n",
        "  \"\"\"\n",
        "  total = 0\n",
        "  for element in nested_list:\n",
        "    if isinstance(element, list): # Check if the element is a list\n",
        "     total += sum_nested_list(element) # Recursively sum the nested list\n",
        "    else:\n",
        "      total += element # Add the number to the total\n",
        "      return total\n",
        "print(\"The total is:\", sum_nested_list([1, [2, [3, 4], 5], 6, [7, 8]]))"
      ],
      "metadata": {
        "colab": {
          "base_uri": "https://localhost:8080/"
        },
        "id": "fq-O_dX1d_r_",
        "outputId": "9b4d162d-a799-41ea-8f31-df1eba4a4e55"
      },
      "execution_count": 15,
      "outputs": [
        {
          "output_type": "stream",
          "name": "stdout",
          "text": [
            "The total is: 1\n"
          ]
        }
      ]
    },
    {
      "cell_type": "code",
      "source": [
        "def generate_permutations(s):\n",
        "    \"\"\"\n",
        "    Generate all unique permutations of a given string.\n",
        "\n",
        "    Args:\n",
        "    s (str): The input string.\n",
        "\n",
        "    Returns:\n",
        "    list: A list containing all unique permutations of the string.\n",
        "    \"\"\"\n",
        "    def backtrack(path, remaining, result):\n",
        "        if not remaining:\n",
        "            result.add(\"\".join(path))\n",
        "        else:\n",
        "            for i in range(len(remaining)):\n",
        "                path.append(remaining[i])\n",
        "                backtrack(path, remaining[:i] + remaining[i+1:], result)\n",
        "                path.pop()\n",
        "\n",
        "    result = set()\n",
        "    backtrack([], s, result)\n",
        "    return list(result)\n",
        "\n",
        "print(generate_permutations(\"abc\"))\n",
        "print(generate_permutations(\"aab\"))\n",
        "\n",
        "\n"
      ],
      "metadata": {
        "colab": {
          "base_uri": "https://localhost:8080/"
        },
        "id": "pQP4Lo_kjkRv",
        "outputId": "a995e41e-e375-4d7b-df90-7f9f579be204"
      },
      "execution_count": 16,
      "outputs": [
        {
          "output_type": "stream",
          "name": "stdout",
          "text": [
            "['cab', 'bca', 'cba', 'bac', 'abc', 'acb']\n",
            "['aba', 'baa', 'aab']\n"
          ]
        }
      ]
    },
    {
      "cell_type": "code",
      "source": [
        "def calculate_directory_size(directory):\n",
        "  total_size = 0\n",
        "  for name, item in directory.items():\n",
        "    if isinstance(item, dict):\n",
        "      total_size += calculate_directory_size(item)\n",
        "    else:\n",
        "      total_size += item\n",
        "      return total_size\n",
        "directory_structure = {\n",
        "\"file1.txt\": 200,\n",
        "\"file2.txt\": 300,\n",
        "\"subdir1\": {\n",
        "\"file3.txt\": 400,\n",
        "\"file4.txt\": 100\n",
        "},\n",
        "\"subdir2\": {\n",
        "\"subsubdir1\": {\n",
        "\"file5.txt\": 250\n",
        "},\n",
        "\n",
        "\"file6.txt\": 150\n",
        "}\n",
        "}\n",
        "print(\"Total directory size:\", calculate_directory_size(directory_structure))"
      ],
      "metadata": {
        "colab": {
          "base_uri": "https://localhost:8080/"
        },
        "id": "9paP6q-2opHr",
        "outputId": "7dc2328b-5ff1-4111-cab8-a21ea9998f9d"
      },
      "execution_count": 19,
      "outputs": [
        {
          "output_type": "stream",
          "name": "stdout",
          "text": [
            "Total directory size: 200\n"
          ]
        }
      ]
    },
    {
      "cell_type": "code",
      "source": [
        "def min_coins(coins, amount):\n",
        "    \"\"\"\n",
        "    Finds the minimum number of coins needed to make up a given amount using dynamic\n",
        "    programming.\n",
        "\n",
        "    This function solves the coin change problem by determining the fewest number of\n",
        "    coins from a given set of coin denominations that sum up to a target amount. The\n",
        "    solution uses dynamic programming (tabulation) to iteratively build up the minimum\n",
        "    number of coins required for each amount.\n",
        "\n",
        "    Parameters:\n",
        "    coins (list of int): A list of coin denominations available for making change. Each\n",
        "    coin denomination is a positive integer.\n",
        "    amount (int): The target amount for which we need to find the minimum number of coins.\n",
        "    It must be a non-negative integer.\n",
        "\n",
        "    Returns:\n",
        "    int: The minimum number of coins required to make the given amount.\n",
        "    If it is not possible to make the amount with the given coins, returns -1.\n",
        "\n",
        "    Example:\n",
        "    >>> min_coins([1, 2, 5], 11)\n",
        "    3\n",
        "    >>> min_coins([2], 3)\n",
        "    -1\n",
        "    \"\"\"\n",
        "    dp = [float('inf')] * (amount + 1)\n",
        "    dp[0] = 0\n",
        "\n",
        "    for coin in coins:\n",
        "        for i in range(coin, amount + 1):\n",
        "            dp[i] = min(dp[i], dp[i - coin] + 1)\n",
        "\n",
        "    return dp[amount] if dp[amount] != float('inf') else -1\n",
        "\n",
        "print(min_coins([1, 2, 5], 11))\n",
        "print(min_coins([2], 3))\n"
      ],
      "metadata": {
        "colab": {
          "base_uri": "https://localhost:8080/"
        },
        "id": "kHfPqnOtrGWh",
        "outputId": "2e26255e-837c-4acd-8fe5-fad884d15f09"
      },
      "execution_count": 23,
      "outputs": [
        {
          "output_type": "stream",
          "name": "stdout",
          "text": [
            "3\n",
            "-1\n"
          ]
        }
      ]
    },
    {
      "cell_type": "code",
      "source": [
        "def longest_common_subsequence (s1,s2):\n",
        "  dp = [[0] * (len(s2) +1) for _ in range(len(s1)+1)]\n",
        "  for i in range (1, len(s1) +1):\n",
        "    for j in range (1, len(s2) + 1):\n",
        "      if s1[i-1] == s2[j-1]:\n",
        "        dp [i] [j] =dp[i-1] [j-1] +1\n",
        "      else:\n",
        "        dp[i][j] = max (dp[i-1][j],dp[i][j-1])\n",
        "  return dp[len(s1)][len(s2)]\n",
        "\n",
        "print(longest_common_subsequence(\"abcde\",\"ace\"))\n",
        "print(longest_common_subsequence(\"abc\",\"abc\"))\n",
        "print(longest_common_subsequence(\"abc\",\"def\"))"
      ],
      "metadata": {
        "colab": {
          "base_uri": "https://localhost:8080/"
        },
        "id": "CsPJG7fatXSq",
        "outputId": "8a15aaa9-a22f-401e-c459-fcd2340d2f30"
      },
      "execution_count": 26,
      "outputs": [
        {
          "output_type": "stream",
          "name": "stdout",
          "text": [
            "3\n",
            "3\n",
            "0\n"
          ]
        }
      ]
    },
    {
      "cell_type": "code",
      "source": [
        "def knapsack(weights, values, capacity):\n",
        "    \"\"\"\n",
        "    Solves the 0/1 Knapsack problem using dynamic programming.\n",
        "\n",
        "    Parameters:\n",
        "    weights (list): List of weights of the items.\n",
        "    values (list): List of values of the items.\n",
        "    capacity (int): The maximum weight capacity of the knapsack.\n",
        "\n",
        "    Returns:\n",
        "    int: The maximum value that can be achieved within the given weight capacity.\n",
        "    \"\"\"\n",
        "    n = len(weights)\n",
        "    dp = [[0] * (capacity + 1) for _ in range(n + 1)]\n",
        "    for i in range(1, n + 1):\n",
        "        for w in range(1, capacity + 1):\n",
        "            if weights[i-1] <= w:\n",
        "                dp[i][w] = max(dp[i-1][w], dp[i-1][w - weights[i-1]] + values[i-1])\n",
        "            else:\n",
        "                dp[i][w] = dp[i-1][w]\n",
        "    return dp[n][capacity]\n",
        "\n",
        "weights = [1, 3, 4, 5]\n",
        "values = [1, 4, 5, 7]\n",
        "capacity = 7\n",
        "\n",
        "print(knapsack(weights, values, capacity))\n"
      ],
      "metadata": {
        "colab": {
          "base_uri": "https://localhost:8080/"
        },
        "id": "-Uag5vuYz8jH",
        "outputId": "20fadc8f-f41e-4fae-82f6-e6c93b535470"
      },
      "execution_count": 27,
      "outputs": [
        {
          "output_type": "stream",
          "name": "stdout",
          "text": [
            "9\n"
          ]
        }
      ]
    }
  ]
}